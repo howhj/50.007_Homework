{
 "cells": [
  {
   "cell_type": "markdown",
   "id": "e5ad02c6",
   "metadata": {},
   "source": [
    "# Q1"
   ]
  },
  {
   "cell_type": "code",
   "execution_count": 117,
   "id": "7a2e8d9f",
   "metadata": {},
   "outputs": [],
   "source": [
    "import numpy as np\n",
    "from PIL import Image\n",
    "import matplotlib.pyplot as plt"
   ]
  },
  {
   "cell_type": "code",
   "execution_count": 114,
   "id": "982699ac",
   "metadata": {},
   "outputs": [],
   "source": [
    "def kmeans(image, max_iter = 10000):\n",
    "    try:\n",
    "        with Image.open(image) as im:\n",
    "            im_matrix = np.array(im.getdata())\n",
    "            centroids = [[255,255,255],\n",
    "                        [255,0,0],\n",
    "                        [128,0,0],\n",
    "                        [0,255,0],\n",
    "                        [0,128,0],\n",
    "                        [0,0,255],\n",
    "                        [0,0,128],\n",
    "                        [0,0,0]]\n",
    "            clusters = [[], [], [], [], [], [], [], []]\n",
    "            \n",
    "            costs = []\n",
    "            cost = 0\n",
    "            for _ in range(max_iter):\n",
    "                print(f\"Iteration: {_}\")\n",
    "                \n",
    "                # Assign pixels to centroids\n",
    "                new_cost = 0\n",
    "                for i in range(len(im_matrix)):\n",
    "                    min_distance = None\n",
    "                    closest_centroid = None\n",
    "                    for j in range(len(centroids)):\n",
    "                        distance = squared_euclidean(im_matrix[i], centroids[j])\n",
    "                        if min_distance == None or distance < min_distance:\n",
    "                            min_distance = distance\n",
    "                            closest_centroid = j\n",
    "                    clusters[closest_centroid].append(i)\n",
    "                    new_cost += min_distance\n",
    "                \n",
    "                # Check if cost has changed\n",
    "                costs.append(new_cost)\n",
    "                if new_cost == cost:\n",
    "                    break\n",
    "                cost = new_cost\n",
    "                \n",
    "                # Optimise centroids based on clusters\n",
    "                new_centroids = []\n",
    "                new_clusters = []\n",
    "                for i in range(len(clusters)):\n",
    "                    new_clusters.append([])\n",
    "                    if len(clusters[i]) == 0:\n",
    "                        new_centroids.append(centroids[i])\n",
    "                    else:\n",
    "                        centroid = []\n",
    "                        for axis in range(3):\n",
    "                            total = 0\n",
    "                            for j in clusters[i]:\n",
    "                                total += im_matrix[j][axis]\n",
    "                            centroid.append(total / len(clusters[i]))\n",
    "                        new_centroids.append(centroid)\n",
    "                centroids = new_centroids\n",
    "                clusters = new_clusters\n",
    "                \n",
    "            return centroids, clusters, costs\n",
    "        \n",
    "    except OSError:\n",
    "        print(f\"Could not open {image}.\")\n",
    "        return"
   ]
  },
  {
   "cell_type": "code",
   "execution_count": 104,
   "id": "d6e1ddbf",
   "metadata": {},
   "outputs": [],
   "source": [
    "def squared_euclidean(a, b):\n",
    "    distance = 0\n",
    "    for i in range(len(a)):\n",
    "        distance += (a[i] - b[i]) ** 2\n",
    "    return distance"
   ]
  },
  {
   "cell_type": "code",
   "execution_count": 119,
   "id": "96720c4c",
   "metadata": {},
   "outputs": [],
   "source": [
    "def array_to_image(centroids, clusters, width, height, filename):\n",
    "    rounded_centroids = []\n",
    "    for c in centroids:\n",
    "        new_centroid = []\n",
    "        for v in c:\n",
    "            new_centroid.append(round(v))\n",
    "        rounded_centroids.append(new_centroid)\n",
    "    \n",
    "    replaced_matrix = [None for i in range(width * height)]\n",
    "    for i in range(len(clusters)):\n",
    "        for j in clusters[i]:\n",
    "            replaced_matrix[j] = rounded_centroids[i]\n",
    "    \n",
    "    img_array = []\n",
    "    i = 0\n",
    "    for h in range(height):\n",
    "        row = []\n",
    "        for w in range(width):\n",
    "            row.append(replaced_matrix[i])\n",
    "            i += 1\n",
    "        img_array.append(row)\n",
    "    # Reference: https://stackoverflow.com/questions/62739851/convert-rgb-arrays-to-pil-image\n",
    "    img = Image.fromarray(np.array(img_array).astype(np.uint8), \"RGB\")\n",
    "    img.save(filename,\"JPEG\")"
   ]
  },
  {
   "cell_type": "code",
   "execution_count": 115,
   "id": "8c6cbdee",
   "metadata": {},
   "outputs": [
    {
     "name": "stdout",
     "output_type": "stream",
     "text": [
      "Iteration: 0\n",
      "Iteration: 1\n",
      "Iteration: 2\n",
      "Iteration: 3\n",
      "Iteration: 4\n",
      "Iteration: 5\n",
      "Iteration: 6\n",
      "Iteration: 7\n",
      "Iteration: 8\n",
      "Iteration: 9\n",
      "Iteration: 10\n",
      "Iteration: 11\n",
      "Iteration: 12\n",
      "Iteration: 13\n",
      "Iteration: 14\n",
      "Iteration: 15\n",
      "Iteration: 16\n",
      "Iteration: 17\n",
      "Iteration: 18\n",
      "Iteration: 19\n",
      "Iteration: 20\n",
      "Iteration: 21\n",
      "Iteration: 22\n",
      "Iteration: 23\n",
      "Iteration: 24\n",
      "Iteration: 25\n",
      "Iteration: 26\n",
      "Iteration: 27\n",
      "Iteration: 28\n",
      "Iteration: 29\n",
      "Iteration: 30\n",
      "Iteration: 31\n",
      "Iteration: 32\n",
      "Iteration: 33\n",
      "Iteration: 34\n",
      "Iteration: 35\n",
      "Iteration: 36\n",
      "Iteration: 37\n",
      "Iteration: 38\n",
      "Iteration: 39\n",
      "Iteration: 40\n",
      "Iteration: 41\n",
      "Iteration: 42\n",
      "Iteration: 43\n",
      "Iteration: 44\n",
      "Iteration: 45\n",
      "Iteration: 46\n",
      "Iteration: 47\n",
      "Iteration: 48\n",
      "Iteration: 49\n",
      "Iteration: 50\n",
      "Iteration: 51\n"
     ]
    }
   ],
   "source": [
    "centroids, clusters, costs = kmeans(\"./HW2_data/1/hw2_img.jpg\")"
   ]
  },
  {
   "cell_type": "code",
   "execution_count": 120,
   "id": "9f521f3f",
   "metadata": {
    "scrolled": true
   },
   "outputs": [
    {
     "name": "stdout",
     "output_type": "stream",
     "text": [
      "Centroid 0: [225.99447491200786, 213.50798068265533, 213.1608005238602]\n",
      "Size of cluster 0: 24434\n",
      "\n",
      "Centroid 1: [209.10267409403434, 160.03687905554818, 129.68905349396425]\n",
      "Size of cluster 1: 82757\n",
      "\n",
      "Centroid 2: [162.4093525514716, 116.66026406839092, 95.2279180177804]\n",
      "Size of cluster 2: 64453\n",
      "\n",
      "Centroid 3: [0, 255, 0]\n",
      "Size of cluster 3: 0\n",
      "\n",
      "Centroid 4: [104.77042182792098, 73.80808503515233, 61.02892534315367]\n",
      "Size of cluster 4: 59740\n",
      "\n",
      "Centroid 5: [91.24627075710667, 93.53926259499015, 162.39234449760767]\n",
      "Size of cluster 5: 3553\n",
      "\n",
      "Centroid 6: [44.48693400839998, 33.809101892871524, 32.921719118577755]\n",
      "Size of cluster 6: 86905\n",
      "\n",
      "Centroid 7: [5.717896664604493, 5.113508331318958, 17.640395117974098]\n",
      "Size of cluster 7: 488158\n",
      "\n",
      "Number of clusters: 7\n",
      "\n"
     ]
    },
    {
     "data": {
      "image/png": "[encoded data removed]",
      "text/plain": [
       "<Figure size 640x480 with 1 Axes>"
      ]
     },
     "metadata": {},
     "output_type": "display_data"
    }
   ],
   "source": [
    "num_clusters = 0\n",
    "for i in range(len(centroids)):\n",
    "    print(f\"Centroid {i}: {centroids[i]}\")\n",
    "    print(f\"Size of cluster {i}: {len(clusters[i])}\\n\")\n",
    "    if len(clusters[i]) > 0:\n",
    "        num_clusters += 1\n",
    "\n",
    "print(f\"Number of clusters: {num_clusters}\\n\")\n",
    "\n",
    "plt.plot(range(len(costs)), costs)\n",
    "\n",
    "array_to_image(centroids, clusters, 1200, 675, \"./centroid_only.jpg\")"
   ]
  }
 ],
 "metadata": {
  "kernelspec": {
   "display_name": "Python 3 (ipykernel)",
   "language": "python",
   "name": "python3"
  },
  "language_info": {
   "codemirror_mode": {
    "name": "ipython",
    "version": 3
   },
   "file_extension": ".py",
   "mimetype": "text/x-python",
   "name": "python",
   "nbconvert_exporter": "python",
   "pygments_lexer": "ipython3",
   "version": "3.10.10"
  }
 },
 "nbformat": 4,
 "nbformat_minor": 5
}
