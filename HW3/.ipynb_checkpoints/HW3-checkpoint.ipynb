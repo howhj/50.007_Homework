{
 "cells": [
  {
   "cell_type": "markdown",
   "id": "daf48c15",
   "metadata": {},
   "source": [
    "# Q1"
   ]
  },
  {
   "cell_type": "code",
   "execution_count": 56,
   "id": "1c729960",
   "metadata": {},
   "outputs": [],
   "source": [
    "import random\n",
    "import numpy as np\n",
    "import matplotlib.pyplot as plt"
   ]
  },
  {
   "cell_type": "code",
   "execution_count": 57,
   "id": "54274c56",
   "metadata": {},
   "outputs": [],
   "source": [
    "def logistic_regression(theta, x, y, iterations, alpha):\n",
    "    loss = []\n",
    "    for _ in range(iterations):\n",
    "        d = [0 for __ in range(len(theta))]\n",
    "        for i in range(len(y)):\n",
    "            d += np.multiply(h(theta, x[i]) - y[i], x[i])\n",
    "        theta -= np.multiply(alpha, d)\n",
    "        \n",
    "        loss.append(training_loss(theta, x, y))\n",
    "    return theta, loss"
   ]
  },
  {
   "cell_type": "code",
   "execution_count": 58,
   "id": "5bcc2a3a",
   "metadata": {},
   "outputs": [],
   "source": [
    "def training_loss(theta, x, y):\n",
    "    loss = 0\n",
    "    for i in range(len(y)):\n",
    "        temp = h(theta, x[i])\n",
    "        loss += y[i] * np.log(temp) + (1 - y[i]) * np.log(1 - temp)\n",
    "    return -loss / len(y)"
   ]
  },
  {
   "cell_type": "code",
   "execution_count": 59,
   "id": "0c53d0b6",
   "metadata": {},
   "outputs": [],
   "source": [
    "def h(theta, x):\n",
    "    return 1 / (1 + np.exp(-np.dot(theta, x)))"
   ]
  },
  {
   "cell_type": "code",
   "execution_count": 60,
   "id": "57ed9247",
   "metadata": {},
   "outputs": [
    {
     "name": "stdout",
     "output_type": "stream",
     "text": [
      "Decision boundary is y = 1 if -2.4170231093646515 x1 + 1.4424691116336925 x2 >= -5.171861911064405, and y = 0 otherwise.\n"
     ]
    },
    {
     "data": {
      "text/plain": [
       "[<matplotlib.lines.Line2D at 0x7f7cd124a200>]"
      ]
     },
     "execution_count": 60,
     "metadata": {},
     "output_type": "execute_result"
    },
    {
     "data": {
      "image/png": "[encoded data removed]",
      "text/plain": [
       "<Figure size 640x480 with 1 Axes>"
      ]
     },
     "metadata": {},
     "output_type": "display_data"
    }
   ],
   "source": [
    "random.seed()\n",
    "x = [[1, 2, 6],\n",
    "     [1, 3, 2],\n",
    "     [1, 3, 4],\n",
    "     [1, 3, 6],\n",
    "     [1, 4, 6],\n",
    "     [1, 4, 7],\n",
    "     [1, 5, 2],\n",
    "     [1, 6, 3],\n",
    "     [1, 6, 5],\n",
    "     [1, 7, 3],\n",
    "     [1, 7, 4],\n",
    "     [1, 7, 6],\n",
    "     [1, 8, 3]]\n",
    "y = [1, 1, 1, 1, 1, 1, 0, 0, 0, 0, 0, 0, 0]\n",
    "theta = [0, -1, 1]\n",
    "\n",
    "theta, loss = logistic_regression(theta, x, y, 150, 0.1)\n",
    "print(f\"Decision boundary is y = 1 if {theta[1]} x1 + {theta[2]} x2 >= {-theta[0]}, and y = 0 otherwise.\")\n",
    "plt.plot(range(len(loss)), loss)"
   ]
  }
 ],
 "metadata": {
  "kernelspec": {
   "display_name": "Python 3 (ipykernel)",
   "language": "python",
   "name": "python3"
  },
  "language_info": {
   "codemirror_mode": {
    "name": "ipython",
    "version": 3
   },
   "file_extension": ".py",
   "mimetype": "text/x-python",
   "name": "python",
   "nbconvert_exporter": "python",
   "pygments_lexer": "ipython3",
   "version": "3.10.10"
  }
 },
 "nbformat": 4,
 "nbformat_minor": 5
}
