{
 "cells": [
  {
   "cell_type": "code",
   "execution_count": 1,
   "id": "61c6d583",
   "metadata": {},
   "outputs": [],
   "source": [
    "import numpy as np\n",
    "import io_data\n",
    "from copy import deepcopy"
   ]
  },
  {
   "cell_type": "code",
   "execution_count": 6,
   "id": "4ecc8249",
   "metadata": {},
   "outputs": [],
   "source": [
    "def gaussian(x, mu, Sigma):\n",
    "    _, k = x.shape\n",
    "    temp = 1 / ((2 * np.pi) ** (k / 2) * np.sqrt(np.linalg.det(Sigma)))\n",
    "    power = -0.5 * np.sum(np.dot(x - mu, np.linalg.inv(Sigma)) * (x - mu), axis=1)\n",
    "    prob = temp * np.exp(power)\n",
    "    \n",
    "    # Handling NaN and 0\n",
    "    for i in range(len(prob)):\n",
    "        if np.isnan(prob[i]) or prob[i] == 0:\n",
    "            prob[i] = 0.01\n",
    "    return prob"
   ]
  },
  {
   "cell_type": "code",
   "execution_count": 3,
   "id": "d490951c",
   "metadata": {},
   "outputs": [],
   "source": [
    "def EM(file, K=2, iters=100):\n",
    "    print(f\"Training model on {file}.\")\n",
    "    # Initialisation\n",
    "    # Load data and initialise x\n",
    "    data, image = io_data.read_data(file, True)\n",
    "    x = np.array([data[i][2:] for i in range(len(data))])\n",
    "    \n",
    "    # Initialise pi as 1/K\n",
    "    pi = np.array([1/K for _ in range(K)])\n",
    "    \n",
    "    # Initialise mu by randomly picking values in the valid range of Lab coordinates\n",
    "    mu = np.array([[0, 0, 0] for _ in range(K)])\n",
    "    for i in range(K):\n",
    "        mu[i][0] = np.random.choice(range(101), 1)\n",
    "        mu[i][1], mu[i][2] = np.random.choice(range(-128, 128), 2)\n",
    "        \n",
    "    # Initialise Sigma\n",
    "    Sigma = np.array([np.cov(np.transpose(x)) for _ in range(K)])\n",
    "    \n",
    "    # Compute log likelihood\n",
    "    # Following the slides, but it doesn't seem to be used anywhere\n",
    "    #log_likelihood = 0\n",
    "    #for i in range(len(x)):\n",
    "    #    p = 0\n",
    "    #    for k in range(K):\n",
    "    #        p += pi[k] * gaussian(x, mu[k], Sigma[k])\n",
    "    #    log_likelihood += np.log(p)\n",
    "    \n",
    "    for __ in range(iters):\n",
    "        # E-step\n",
    "        gamma = np.zeros((len(x), K))\n",
    "        for k in range(K):\n",
    "            gamma[:, k] = pi[k] * gaussian(x, mu[k], Sigma[k])\n",
    "        gamma /= np.sum(gamma, axis=1, keepdims=True)\n",
    "        \n",
    "        # M-step\n",
    "        for k in range(K):\n",
    "            N = np.sum(gamma[:, k])\n",
    "            pi[k] = N / len(x)\n",
    "            mu[k] = np.dot(gamma[:, k], x) / N\n",
    "            Sigma[k] = np.dot(gamma[:, k] * np.transpose(x - mu[k]), x - mu[k]) / N\n",
    "    return gamma"
   ]
  },
  {
   "cell_type": "code",
   "execution_count": 9,
   "id": "be396eec",
   "metadata": {},
   "outputs": [],
   "source": [
    "def generate_images(file, gamma):\n",
    "    print(f\"Generating images for {file}\")\n",
    "    \n",
    "    data, _ = io_data.read_data(file, True)\n",
    "    width, height = data[-1][0], data[-1][1]\n",
    "    x = np.array([data[i][2:] for i in range(len(data))])\n",
    "    \n",
    "    white = [100, 0.01, -0.01]\n",
    "    black = [0, 0, 0]\n",
    "    \n",
    "    # Assign each pixel to either foreground or background layer\n",
    "    layer = np.argmax(gamma, axis=1)\n",
    "    \n",
    "    # Create image mask by setting background layer pixels to white and foreground pixels to black\n",
    "    mask_data = deepcopy(data)\n",
    "    for i in range(len(x)):\n",
    "        mask_data[i][2:] = black if layer[i] == 0 else white\n",
    "    mask_file = f\"{file[:-4]}_mask.txt\"\n",
    "    mask_image = f\"{file[:-4]}_mask.jpg\"\n",
    "    io_data.write_data(mask_data, mask_file)\n",
    "    io_data.read_data(mask_file, False, False, True, mask_image)\n",
    "    \n",
    "    # create foreground image by setting background layer pixels to black\n",
    "    fg_data = deepcopy(data)\n",
    "    for i in range(len(x)):\n",
    "        fg_data[i][2:] = black if layer[i] == 0 else x[i]\n",
    "    fg_file = f\"{file[:-4]}_fg.txt\"\n",
    "    fg_image = f\"{file[:-4]}_fg.jpg\"\n",
    "    io_data.write_data(fg_data, fg_file)\n",
    "    io_data.read_data(fg_file, False, False, True, fg_image)\n",
    "    \n",
    "    # create background image by setting foreground layer pixels to black\n",
    "    bg_data = deepcopy(data)\n",
    "    for i in range(len(x)):\n",
    "        bg_data[i][2:] = black if layer[i] == 1 else x[i]\n",
    "    bg_file = f\"{file[:-4]}_bg.txt\"\n",
    "    bg_image = f\"{file[:-4]}_bg.jpg\"\n",
    "    io_data.write_data(bg_data, bg_file)\n",
    "    io_data.read_data(bg_file, False, False, True, bg_image)"
   ]
  },
  {
   "cell_type": "code",
   "execution_count": 10,
   "id": "ff5a5190",
   "metadata": {
    "scrolled": true
   },
   "outputs": [
    {
     "name": "stdout",
     "output_type": "stream",
     "text": [
      "Training model on data/fox.txt.\n",
      "Generating images for data/fox.txt\n"
     ]
    }
   ],
   "source": [
    "gamma_fox = EM(\"data/fox.txt\")\n",
    "generate_images(\"data/fox.txt\", gamma_fox)"
   ]
  },
  {
   "cell_type": "code",
   "execution_count": 19,
   "id": "b16c5fee",
   "metadata": {},
   "outputs": [
    {
     "name": "stdout",
     "output_type": "stream",
     "text": [
      "Training model on data/owl.txt.\n",
      "Generating images for data/owl.txt\n"
     ]
    }
   ],
   "source": [
    "gamma_owl = EM(\"data/owl.txt\")\n",
    "generate_images(\"data/owl.txt\", gamma_owl)"
   ]
  },
  {
   "cell_type": "code",
   "execution_count": 15,
   "id": "0911bdbd",
   "metadata": {},
   "outputs": [
    {
     "name": "stdout",
     "output_type": "stream",
     "text": [
      "Training model on data/zebra.txt.\n",
      "Generating images for data/zebra.txt\n"
     ]
    }
   ],
   "source": [
    "gamma_zebra = EM(\"data/zebra.txt\")\n",
    "generate_images(\"data/zebra.txt\", gamma_zebra)"
   ]
  },
  {
   "cell_type": "code",
   "execution_count": 16,
   "id": "9a50d40f",
   "metadata": {},
   "outputs": [
    {
     "name": "stdout",
     "output_type": "stream",
     "text": [
      "Training model on data/cow.txt.\n",
      "Generating images for data/cow.txt\n"
     ]
    }
   ],
   "source": [
    "gamma_cow = EM(\"data/cow.txt\")\n",
    "generate_images(\"data/cow.txt\", gamma_cow)"
   ]
  }
 ],
 "metadata": {
  "kernelspec": {
   "display_name": "Python 3 (ipykernel)",
   "language": "python",
   "name": "python3"
  },
  "language_info": {
   "codemirror_mode": {
    "name": "ipython",
    "version": 3
   },
   "file_extension": ".py",
   "mimetype": "text/x-python",
   "name": "python",
   "nbconvert_exporter": "python",
   "pygments_lexer": "ipython3",
   "version": "3.10.10"
  }
 },
 "nbformat": 4,
 "nbformat_minor": 5
}
